{
 "cells": [
  {
   "cell_type": "code",
   "execution_count": 1,
   "id": "9b8410cf",
   "metadata": {},
   "outputs": [],
   "source": [
    "import numpy as np\n",
    "from math import comb\n",
    "import matplotlib.pyplot as plt"
   ]
  },
  {
   "cell_type": "code",
   "execution_count": 2,
   "id": "3abb7bdc",
   "metadata": {},
   "outputs": [],
   "source": [
    "ls= [int(x) for x in np.arange(9,16) ]\n",
    "ms= [ int(x) for x in np.sort(np.append(np.arange(5,9),np.arange(6,9))) ]\n",
    "\n",
    "#getting the hilbert dimension size\n",
    "dims= [comb(l,m) for l,m in zip(ls,ms)]"
   ]
  },
  {
   "cell_type": "code",
   "execution_count": 3,
   "id": "59f0f6d6",
   "metadata": {},
   "outputs": [],
   "source": [
    "def chaos_classifier(eigenvalues, entropies):\n",
    "    \"\"\"Simple, definitive quantum chaos classifier\"\"\"\n",
    "    \n",
    "    # Fit cubic polynomial\n",
    "    coeffs = np.polyfit(eigenvalues, entropies, 2)\n",
    "    poly_fit = np.polyval(coeffs, eigenvalues)\n",
    "    \n",
    "    # Calculate R²\n",
    "    ss_res = np.sum((entropies - poly_fit)**2)\n",
    "    ss_tot = np.sum((entropies - np.mean(entropies))**2)\n",
    "    r_squared = 1 - (ss_res / ss_tot)\n",
    "    return r_squared\n",
    "\n",
    "    '''\n",
    "    # Classification\n",
    "    if r_squared > 0.6:\n",
    "        return \"Chaotic\", r_squared\n",
    "    elif r_squared < 0.3:\n",
    "        return \"Integrable\", r_squared\n",
    "    else:\n",
    "        return \"Mixed\", r_squared\n",
    "    '''\n",
    "# Usage\n",
    "#print(f\"System: {classification} (R² = {r2:.3f})\")"
   ]
  },
  {
   "cell_type": "code",
   "execution_count": null,
   "id": "1be7d060",
   "metadata": {},
   "outputs": [],
   "source": [
    "def chaos_classifier(eigenvalues, entropies):\n",
    "    \"\"\"Use only low-degree polynomials to avoid overfitting\"\"\"\n",
    "    \n",
    "    # Try degrees 1, 2, 3 only\n",
    "    max_r2 = 0\n",
    "    best_degree = 1\n",
    "    \n",
    "    for degree in [1, 2, 3]:\n",
    "        coeffs = np.polyfit(eigenvalues, entropies, degree)\n",
    "        poly_fit = np.polyval(coeffs, eigenvalues)\n",
    "        \n",
    "        ss_res = np.sum((entropies - poly_fit)**2)\n",
    "        ss_tot = np.sum((entropies - np.mean(entropies))**2)\n",
    "        r_squared = 1 - (ss_res / ss_tot)\n",
    "        \n",
    "        if r_squared > max_r2:\n",
    "            max_r2 = r_squared\n",
    "            best_degree = degree\n",
    "    \n",
    "    return max_r2, best_degree"
   ]
  },
  {
   "cell_type": "code",
   "execution_count": 4,
   "id": "c6cda715",
   "metadata": {},
   "outputs": [],
   "source": [
    "#data analysis here\n",
    "#we var for each n group\n",
    "int_r2=[]\n",
    "ch_r2=[]\n",
    "\n",
    "for l,m in zip(ls,ms):\n",
    "    int_shanons= np.loadtxt(f\"/home/ameilioso/krylov/Krylov-Complexity-1/CSV_Outputs/Shannon_Results/L{l}M{m}chain/chaos_coefficient0.0/int_shannonsL{l}M{m}.csv\",dtype=complex)\n",
    "    ch_shanons= np.loadtxt(f\"/home/ameilioso/krylov/Krylov-Complexity-1/CSV_Outputs/Shannon_Results/L{l}M{m}chain/chaos_coefficient1.0/ch_shannonsL{l}M{m}.csv\",dtype=complex)\n",
    "\n",
    "    int_eval= np.loadtxt(f\"/home/ameilioso/krylov/Krylov-Complexity-1/CSV_Outputs/Shannon_Results/L{l}M{m}chain/chaos_coefficient0.0/int_evalL{l}M{m}.csv\",dtype=complex)\n",
    "    ch_eval= np.loadtxt(f\"/home/ameilioso/krylov/Krylov-Complexity-1/CSV_Outputs/Shannon_Results/L{l}M{m}chain/chaos_coefficient1.0/ch_evalL{l}M{m}.csv\",dtype=complex)\n",
    "\n",
    "\n",
    "    int_r2.append(chaos_classifier(int_eval, int_shanons))\n",
    "    ch_r2.append(chaos_classifier(ch_eval, ch_shanons))\n",
    "\n"
   ]
  },
  {
   "cell_type": "code",
   "execution_count": 5,
   "id": "3aeb5ad0",
   "metadata": {},
   "outputs": [
    {
     "name": "stderr",
     "output_type": "stream",
     "text": [
      "/var/data/python/lib/python3.12/site-packages/matplotlib/cbook.py:1762: ComplexWarning: Casting complex values to real discards the imaginary part\n",
      "  return math.isfinite(val)\n",
      "/var/data/python/lib/python3.12/site-packages/matplotlib/cbook.py:1398: ComplexWarning: Casting complex values to real discards the imaginary part\n",
      "  return np.asarray(x, float)\n"
     ]
    },
    {
     "data": {
      "text/plain": [
       "<matplotlib.legend.Legend at 0x7f4dd9073c50>"
      ]
     },
     "execution_count": 5,
     "metadata": {},
     "output_type": "execute_result"
    },
    {
     "data": {
      "image/png": "[encoded data removed]",
      "text/plain": [
       "<Figure size 640x480 with 1 Axes>"
      ]
     },
     "metadata": {},
     "output_type": "display_data"
    }
   ],
   "source": [
    "plt.title(\"$R^2$ Shannon Entropy Value\")\n",
    "plt.ylabel(\"$R^2$\")\n",
    "plt.xlabel(\"Hilbert Dimension\")\n",
    "#root n\n",
    "plt.plot(dims,int_r2,\"o\",label=\"g=0.0\")\n",
    "plt.plot(dims,ch_r2,\"o\",label=\"g=1.0\")\n",
    "\n",
    "plt.legend(markerscale=1,loc='lower right')\n"
   ]
  }
 ],
 "metadata": {
  "kernelspec": {
   "display_name": "Python 3",
   "language": "python",
   "name": "python3"
  },
  "language_info": {
   "codemirror_mode": {
    "name": "ipython",
    "version": 3
   },
   "file_extension": ".py",
   "mimetype": "text/x-python",
   "name": "python",
   "nbconvert_exporter": "python",
   "pygments_lexer": "ipython3",
   "version": "3.11.9"
  }
 },
 "nbformat": 4,
 "nbformat_minor": 5
}
