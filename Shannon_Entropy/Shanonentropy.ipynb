{
 "cells": [
  {
   "cell_type": "code",
   "execution_count": null,
   "id": "8df64bc6",
   "metadata": {},
   "outputs": [],
   "source": [
    "import numpy as np\n",
    "from scipy.linalg import expm\n",
    "import matplotlib.pyplot as plt\n",
    "\n",
    "\n"
   ]
  },
  {
   "cell_type": "code",
   "execution_count": 13,
   "id": "4753b795",
   "metadata": {},
   "outputs": [],
   "source": [
    "#This cell builds the Hamiltonian from the lanc coeffs\n",
    "\n",
    "\n",
    "N = 100  # Krylov dimension\n",
    "a = np.ones(N)           # diagonal terms\n",
    "b = np.ones(N) * 0.5      # 1 off diagonal terms (b[0] is unused)\n",
    "#b[0]=0 in convention but thats not necessary for making H\n",
    "\n",
    "#making the krylov hamiltonian\n",
    "Hk = np.zeros((N, N), dtype=complex)\n",
    "for n in range(N):\n",
    "    Hk[n, n] = a[n]\n",
    "    if n + 1 < N:\n",
    "        Hk[n, n+1] = b[n+1]\n",
    "        Hk[n+1, n] = b[n+1]"
   ]
  },
  {
   "cell_type": "code",
   "execution_count": 14,
   "id": "9aa05597",
   "metadata": {},
   "outputs": [],
   "source": [
    "# Eigenvalues and eigenstates of Hamiltonian in K basis\n",
    "evalue, evect = np.linalg.eig(Hk)\n"
   ]
  },
  {
   "cell_type": "code",
   "execution_count": 15,
   "id": "5d1b8165",
   "metadata": {},
   "outputs": [],
   "source": [
    "#Calculates the shanon entropy for eigenstates without time evolution\n",
    "shanons=[]\n",
    "for psit in evect:\n",
    "    sk=-1*np.sum( (psit*np.conjugate(psit)) * np.log(psit*np.conjugate(psit)) )\n",
    "    shanons.append(sk)"
   ]
  },
  {
   "cell_type": "code",
   "execution_count": null,
   "id": "46047629",
   "metadata": {},
   "outputs": [
    {
     "name": "stdout",
     "output_type": "stream",
     "text": [
      "1 / 100\n",
      "2 / 100\n",
      "3 / 100\n",
      "4 / 100\n",
      "5 / 100\n",
      "6 / 100\n",
      "7 / 100\n",
      "8 / 100\n",
      "9 / 100\n",
      "10 / 100\n",
      "11 / 100\n",
      "12 / 100\n",
      "13 / 100\n",
      "14 / 100\n",
      "15 / 100\n",
      "16 / 100\n",
      "17 / 100\n",
      "18 / 100\n",
      "19 / 100\n",
      "20 / 100\n",
      "21 / 100\n",
      "22 / 100\n",
      "23 / 100\n",
      "24 / 100\n",
      "25 / 100\n",
      "26 / 100\n",
      "27 / 100\n",
      "28 / 100\n",
      "29 / 100\n",
      "30 / 100\n",
      "31 / 100\n",
      "32 / 100\n",
      "33 / 100\n",
      "34 / 100\n",
      "35 / 100\n",
      "36 / 100\n",
      "37 / 100\n",
      "38 / 100\n",
      "39 / 100\n",
      "40 / 100\n",
      "41 / 100\n",
      "42 / 100\n",
      "43 / 100\n",
      "44 / 100\n",
      "45 / 100\n",
      "46 / 100\n",
      "47 / 100\n",
      "48 / 100\n",
      "49 / 100\n",
      "50 / 100\n",
      "51 / 100\n",
      "52 / 100\n",
      "53 / 100\n",
      "54 / 100\n",
      "55 / 100\n",
      "56 / 100\n",
      "57 / 100\n",
      "58 / 100\n",
      "59 / 100\n",
      "60 / 100\n",
      "61 / 100\n",
      "62 / 100\n",
      "63 / 100\n",
      "64 / 100\n",
      "65 / 100\n",
      "66 / 100\n",
      "67 / 100\n",
      "68 / 100\n",
      "69 / 100\n",
      "70 / 100\n",
      "71 / 100\n",
      "72 / 100\n",
      "73 / 100\n",
      "74 / 100\n",
      "75 / 100\n",
      "76 / 100\n",
      "77 / 100\n",
      "78 / 100\n",
      "79 / 100\n",
      "80 / 100\n",
      "81 / 100\n",
      "82 / 100\n",
      "83 / 100\n",
      "84 / 100\n",
      "85 / 100\n",
      "86 / 100\n",
      "87 / 100\n",
      "88 / 100\n",
      "89 / 100\n",
      "90 / 100\n",
      "91 / 100\n",
      "92 / 100\n",
      "93 / 100\n",
      "94 / 100\n",
      "95 / 100\n",
      "96 / 100\n",
      "97 / 100\n",
      "98 / 100\n",
      "99 / 100\n",
      "100 / 100\n"
     ]
    }
   ],
   "source": [
    "#Calculates the shanon entropy with time evolution \n",
    "T = 100      # total time\n",
    "steps = 100\n",
    "times = np.linspace(0, T, steps)\n",
    "\n",
    "shanons=[]\n",
    "\n",
    "for psi0 in evect:\n",
    "    for t in times:\n",
    "        U=expm(-1j*Hk*t)\n",
    "        psit=U.dot(psi0)\n",
    "    sk=-1*np.sum( (psit*np.conjugate(psit)) * np.log(psit*np.conjugate(psit)) )\n",
    "    shanons.append(sk)\n",
    "    #just printing this to keep track of how far through calculation we are\n",
    "    print(f\"{len(shanons)}/{len(evect)}\")"
   ]
  },
  {
   "cell_type": "code",
   "execution_count": 17,
   "id": "ab9bf1ae",
   "metadata": {},
   "outputs": [
    {
     "data": {
      "text/plain": [
       "[<matplotlib.lines.Line2D at 0x7bf9501898b0>]"
      ]
     },
     "execution_count": 17,
     "metadata": {},
     "output_type": "execute_result"
    },
    {
     "data": {
      "image/png": "[encoded data removed]",
      "text/plain": [
       "<Figure size 640x480 with 1 Axes>"
      ]
     },
     "metadata": {},
     "output_type": "display_data"
    }
   ],
   "source": [
    "#plt.plot(np.arange(len(evect)),shanons)\n",
    "plt.xlabel(\"Eigenvalues\")\n",
    "plt.ylabel(\"Shanon Entropy\")\n",
    "plt.plot(evalue,shanons, \"o\")\n",
    "\n",
    "\n"
   ]
  },
  {
   "cell_type": "code",
   "execution_count": null,
   "id": "b37232ae",
   "metadata": {},
   "outputs": [],
   "source": [
    "import csv\n",
    "with open('shanonresults.csv', 'w', newline='') as csvfile:\n",
    "    writer = csv.writer(csvfile)\n",
    "    writer.writerows([[s] for s in shanons])\n"
   ]
  }
 ],
 "metadata": {
  "kernelspec": {
   "display_name": "Python 3",
   "language": "python",
   "name": "python3"
  },
  "language_info": {
   "codemirror_mode": {
    "name": "ipython",
    "version": 3
   },
   "file_extension": ".py",
   "mimetype": "text/x-python",
   "name": "python",
   "nbconvert_exporter": "python",
   "pygments_lexer": "ipython3",
   "version": "3.12.10"
  }
 },
 "nbformat": 4,
 "nbformat_minor": 5
}
